{
 "cells": [
  {
   "cell_type": "code",
   "execution_count": null,
   "id": "73d9d70e",
   "metadata": {},
   "outputs": [
    {
     "name": "stdout",
     "output_type": "stream",
     "text": [
      "Running evaluation...\n",
      "\n",
      "Total predictions: 1200\n",
      "Prediction counts: Counter({0: 656, 1: 544})\n",
      "Evaluation accuracy (sanity check): 94.17%\n"
     ]
    }
   ],
   "source": [
    "# test_eval.py\n",
    "\n",
    "from eval import load_and_predict\n",
    "import os\n",
    "from collections import Counter\n",
    "\n",
    "topomaps_dir = \"topomaps\"\n",
    "model_file = \"model.pth\"\n",
    "\n",
    "# Run the prediction\n",
    "print(\"Running evaluation...\")\n",
    "predictions = load_and_predict(topomaps_dir, model_file)\n",
    "\n",
    "# Print results\n",
    "print(f\"\\nTotal predictions: {len(predictions)}\")\n",
    "print(\"Prediction counts:\", Counter(predictions))  # e.g., Counter({0: 80, 1: 120})\n",
    "\n",
    "def load_true_labels(data_dir):\n",
    "    true_labels = []\n",
    "    for class_name in os.listdir(data_dir):\n",
    "        class_dir = os.path.join(data_dir, class_name)\n",
    "        if not os.path.isdir(class_dir):\n",
    "            continue\n",
    "        label = 1 if class_name.lower() == \"good\" else 0\n",
    "        num_files = len([f for f in os.listdir(class_dir) if f.endswith(\".png\")])\n",
    "        true_labels.extend([label] * num_files)\n",
    "    return true_labels\n",
    "\n",
    "true_labels = load_true_labels(topomaps_dir)\n",
    "if len(true_labels) == len(predictions):\n",
    "    correct = sum(p == t for p, t in zip(predictions, true_labels))\n",
    "    accuracy = 100 * correct / len(true_labels)\n",
    "    print(f\"Evaluation accuracy (sanity check): {accuracy:.2f}%\")\n",
    "else:\n",
    "    print(\"Warning: Number of predictions does not match number of ground truth images.\")\n"
   ]
  }
 ],
 "metadata": {
  "kernelspec": {
   "display_name": "ml_env",
   "language": "python",
   "name": "python3"
  },
  "language_info": {
   "codemirror_mode": {
    "name": "ipython",
    "version": 3
   },
   "file_extension": ".py",
   "mimetype": "text/x-python",
   "name": "python",
   "nbconvert_exporter": "python",
   "pygments_lexer": "ipython3",
   "version": "3.12.3"
  }
 },
 "nbformat": 4,
 "nbformat_minor": 5
}
